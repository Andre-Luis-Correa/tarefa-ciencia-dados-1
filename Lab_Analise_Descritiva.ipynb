{
 "cells": [
  {
   "metadata": {},
   "cell_type": "markdown",
   "source": "",
   "id": "1cfb2db3e0dd24df"
  },
  {
   "metadata": {},
   "cell_type": "markdown",
   "source": "",
   "id": "95816d861fb3597e"
  },
  {
   "cell_type": "markdown",
   "id": "0ce474ba",
   "metadata": {
    "id": "0ce474ba"
   },
   "source": [
    "\n",
    "# 🧪 Atividade Prática: Análise Descritiva com Dados Públicos\n",
    "\n",
    "## 🎯 Objetivos\n",
    "- Praticar a obtenção de dados públicos.\n",
    "- Aplicar técnicas de análise descritiva.\n",
    "- Desenvolver habilidades de interpretação e comunicação dos achados.\n",
    "- Usar ChatGPT como apoio técnico, sem comprometer o raciocínio.\n",
    "\n",
    "## 📂 Etapas da Atividade\n",
    "\n",
    "### 🔹 Parte 1: Coleta e Pré-Processamento\n",
    "1. Faça download da base de dados IPEA (http://www.ipeadata.gov.br/Default.aspx).\n",
    "2. Carregue os dados com `pandas`:\n",
    "   - Faça a leitura do arquivo.\n",
    "   - Selecione colunas relevantes.\n",
    "   - Trate valores ausentes e tipos incorretos.\n",
    "   - Exiba um `DataFrame` limpo com `head()`.\n",
    "\n",
    "### 🔹 Parte 2: Análise Descritiva\n",
    "1. Calcule medidas estatísticas:\n",
    "   - Média, mediana, moda, desvio padrão, mínimo e máximo.\n",
    "2. Visualize os dados:\n",
    "   - Crie ao menos **3 gráficos** (histograma, boxplot, gráfico de barras).\n",
    "3. Utilize ChatGPT para tirar dúvidas de código ou interpretação técnica.\n",
    "\n",
    "### 🔹 Parte 3: Reflexão Analítica\n",
    "1. Escreva interpretações baseadas na análise:\n",
    "   - Quais insights podem ser extraídos?\n",
    "   - Há padrões, desigualdades ou outliers?\n",
    "   - Você levantaria alguma hipótese a partir dos dados?\n",
    "2. Escreva uma seção de “Limitações da análise”.\n",
    "\n",
    "## 📌 Observações\n",
    "- Inclua explicações em células de texto (Markdown).\n",
    "- Faça bom uso de visualizações para apoiar suas conclusões.\n",
    "- Mantenha o código limpo e comentado.\n",
    "\n",
    "## 📋 Entregas\n",
    "- Notebook preenchido (.ipynb) com código, gráficos e explicações.\n",
    "- Apresentação oral de 5 minutos sobre os principais achados.\n"
   ]
  },
  {
   "cell_type": "code",
   "source": [],
   "metadata": {
    "id": "vVm-icxxMH_Z"
   },
   "id": "vVm-icxxMH_Z",
   "execution_count": null,
   "outputs": []
  }
 ],
 "metadata": {
  "colab": {
   "provenance": []
  }
 },
 "nbformat": 4,
 "nbformat_minor": 5
}
